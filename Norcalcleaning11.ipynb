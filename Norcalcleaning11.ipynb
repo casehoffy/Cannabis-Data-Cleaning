{
 "cells": [
  {
   "cell_type": "code",
   "execution_count": 14,
   "metadata": {},
   "outputs": [
    {
     "data": {
      "text/html": [
       "<div>\n",
       "<style scoped>\n",
       "    .dataframe tbody tr th:only-of-type {\n",
       "        vertical-align: middle;\n",
       "    }\n",
       "\n",
       "    .dataframe tbody tr th {\n",
       "        vertical-align: top;\n",
       "    }\n",
       "\n",
       "    .dataframe thead th {\n",
       "        text-align: right;\n",
       "    }\n",
       "</style>\n",
       "<table border=\"1\" class=\"dataframe\">\n",
       "  <thead>\n",
       "    <tr style=\"text-align: right;\">\n",
       "      <th></th>\n",
       "      <th>Product</th>\n",
       "      <th>Category</th>\n",
       "      <th>Subcategory</th>\n",
       "    </tr>\n",
       "  </thead>\n",
       "  <tbody>\n",
       "    <tr>\n",
       "      <td>0</td>\n",
       "      <td>Native Roots Tree Beanie, Black</td>\n",
       "      <td>ACCESSORIES</td>\n",
       "      <td>OTHER - ACCESSORIES</td>\n",
       "    </tr>\n",
       "    <tr>\n",
       "      <td>1</td>\n",
       "      <td>Sin City - Black/Gold Rolling Medium</td>\n",
       "      <td>ACCESSORIES</td>\n",
       "      <td>OTHER - ACCESSORIES</td>\n",
       "    </tr>\n",
       "    <tr>\n",
       "      <td>2</td>\n",
       "      <td>Sin City - Glass Handpipes DOPER</td>\n",
       "      <td>ACCESSORIES</td>\n",
       "      <td>DEVICES</td>\n",
       "    </tr>\n",
       "    <tr>\n",
       "      <td>3</td>\n",
       "      <td>SOW D.I.M.E.S Cinnamon</td>\n",
       "      <td>INGESTIBLES</td>\n",
       "      <td>CANDY</td>\n",
       "    </tr>\n",
       "    <tr>\n",
       "      <td>4</td>\n",
       "      <td>Sin City - Glass Waterpipe/Rigs</td>\n",
       "      <td>ACCESSORIES</td>\n",
       "      <td>DEVICES</td>\n",
       "    </tr>\n",
       "  </tbody>\n",
       "</table>\n",
       "</div>"
      ],
      "text/plain": [
       "                                Product     Category          Subcategory\n",
       "0       Native Roots Tree Beanie, Black  ACCESSORIES  OTHER - ACCESSORIES\n",
       "1  Sin City - Black/Gold Rolling Medium  ACCESSORIES  OTHER - ACCESSORIES\n",
       "2      Sin City - Glass Handpipes DOPER  ACCESSORIES              DEVICES\n",
       "3                SOW D.I.M.E.S Cinnamon  INGESTIBLES               CANDY \n",
       "4       Sin City - Glass Waterpipe/Rigs  ACCESSORIES              DEVICES"
      ]
     },
     "execution_count": 14,
     "metadata": {},
     "output_type": "execute_result"
    }
   ],
   "source": [
    "import pandas as pd\n",
    "import numpy as np\n",
    "data = pd.read_csv(\"norcal1.csv\") \n",
    "data.head()"
   ]
  },
  {
   "cell_type": "code",
   "execution_count": 15,
   "metadata": {},
   "outputs": [
    {
     "data": {
      "text/plain": [
       "(99999, 3)"
      ]
     },
     "execution_count": 15,
     "metadata": {},
     "output_type": "execute_result"
    }
   ],
   "source": [
    "data.shape"
   ]
  },
  {
   "cell_type": "code",
   "execution_count": 16,
   "metadata": {},
   "outputs": [
    {
     "name": "stdout",
     "output_type": "stream",
     "text": [
      "There are 44922 types of product configurations in this dataset such as Native Roots Tree Beanie, Black, Sin City - Black/Gold Rolling Medium, Sin City - Glass Handpipes DOPER. \n",
      "\n"
     ]
    }
   ],
   "source": [
    "print(\"There are {} types of product configurations in this dataset such as {}. \\n\".format(len(data.Product.unique()),\n",
    "                                                                           \", \".join(data.Product.unique()[0:3])))"
   ]
  },
  {
   "cell_type": "code",
   "execution_count": 17,
   "metadata": {},
   "outputs": [
    {
     "data": {
      "text/html": [
       "<div>\n",
       "<style scoped>\n",
       "    .dataframe tbody tr th:only-of-type {\n",
       "        vertical-align: middle;\n",
       "    }\n",
       "\n",
       "    .dataframe tbody tr th {\n",
       "        vertical-align: top;\n",
       "    }\n",
       "\n",
       "    .dataframe thead th {\n",
       "        text-align: right;\n",
       "    }\n",
       "</style>\n",
       "<table border=\"1\" class=\"dataframe\">\n",
       "  <thead>\n",
       "    <tr style=\"text-align: right;\">\n",
       "      <th></th>\n",
       "      <th>Product</th>\n",
       "      <th>Category</th>\n",
       "      <th>Subcategory</th>\n",
       "    </tr>\n",
       "  </thead>\n",
       "  <tbody>\n",
       "    <tr>\n",
       "      <td>0</td>\n",
       "      <td>Native Roots Tree Beanie, Black</td>\n",
       "      <td>ACCESSORIES</td>\n",
       "      <td>OTHER - ACCESSORIES</td>\n",
       "    </tr>\n",
       "    <tr>\n",
       "      <td>1</td>\n",
       "      <td>Sin City - Black/Gold Rolling Medium</td>\n",
       "      <td>ACCESSORIES</td>\n",
       "      <td>OTHER - ACCESSORIES</td>\n",
       "    </tr>\n",
       "    <tr>\n",
       "      <td>2</td>\n",
       "      <td>Sin City - Glass Handpipes DOPER</td>\n",
       "      <td>ACCESSORIES</td>\n",
       "      <td>DEVICES</td>\n",
       "    </tr>\n",
       "    <tr>\n",
       "      <td>3</td>\n",
       "      <td>SOW D.I.M.E.S Cinnamon</td>\n",
       "      <td>INGESTIBLES</td>\n",
       "      <td>CANDY</td>\n",
       "    </tr>\n",
       "    <tr>\n",
       "      <td>4</td>\n",
       "      <td>Sin City - Glass Waterpipe/Rigs</td>\n",
       "      <td>ACCESSORIES</td>\n",
       "      <td>DEVICES</td>\n",
       "    </tr>\n",
       "  </tbody>\n",
       "</table>\n",
       "</div>"
      ],
      "text/plain": [
       "                                Product     Category          Subcategory\n",
       "0       Native Roots Tree Beanie, Black  ACCESSORIES  OTHER - ACCESSORIES\n",
       "1  Sin City - Black/Gold Rolling Medium  ACCESSORIES  OTHER - ACCESSORIES\n",
       "2      Sin City - Glass Handpipes DOPER  ACCESSORIES              DEVICES\n",
       "3                SOW D.I.M.E.S Cinnamon  INGESTIBLES               CANDY \n",
       "4       Sin City - Glass Waterpipe/Rigs  ACCESSORIES              DEVICES"
      ]
     },
     "execution_count": 17,
     "metadata": {},
     "output_type": "execute_result"
    }
   ],
   "source": [
    "data.head()"
   ]
  },
  {
   "cell_type": "markdown",
   "metadata": {},
   "source": [
    "## Formatting\n",
    "* Sorting and regulating the letter casing to decrease inconsistencies. In the original dataset, some product labels are indented or have unecessary whitespace before them, which can interfere when sorting. Same goes for some special characters that aren't essential to the product name. We counter these issues here"
   ]
  },
  {
   "cell_type": "code",
   "execution_count": 18,
   "metadata": {},
   "outputs": [],
   "source": [
    "# sort values\n",
    "data.sort_values(\"Product\", inplace = True)"
   ]
  },
  {
   "cell_type": "code",
   "execution_count": 19,
   "metadata": {},
   "outputs": [],
   "source": [
    "# Converting Products to Lowercase \n",
    "data['Product'] = data['Product'].str.lower()"
   ]
  },
  {
   "cell_type": "code",
   "execution_count": 20,
   "metadata": {},
   "outputs": [],
   "source": [
    "# Removing Non-Essential Special Characters\n",
    "import string\n",
    "data['Product']=data['Product'].str.replace(r'[-/*|!]+', '')"
   ]
  },
  {
   "cell_type": "code",
   "execution_count": 21,
   "metadata": {},
   "outputs": [],
   "source": [
    "# Removing Leading Whitespace\n",
    "data['Product'] = [x.lstrip() for x in data['Product']]"
   ]
  },
  {
   "cell_type": "code",
   "execution_count": 22,
   "metadata": {},
   "outputs": [
    {
     "data": {
      "text/html": [
       "<div>\n",
       "<style scoped>\n",
       "    .dataframe tbody tr th:only-of-type {\n",
       "        vertical-align: middle;\n",
       "    }\n",
       "\n",
       "    .dataframe tbody tr th {\n",
       "        vertical-align: top;\n",
       "    }\n",
       "\n",
       "    .dataframe thead th {\n",
       "        text-align: right;\n",
       "    }\n",
       "</style>\n",
       "<table border=\"1\" class=\"dataframe\">\n",
       "  <thead>\n",
       "    <tr style=\"text-align: right;\">\n",
       "      <th></th>\n",
       "      <th>Product</th>\n",
       "      <th>Category</th>\n",
       "      <th>Subcategory</th>\n",
       "    </tr>\n",
       "  </thead>\n",
       "  <tbody>\n",
       "    <tr>\n",
       "      <td>94466</td>\n",
       "      <td>ht gg4 bho 1g</td>\n",
       "      <td>INHALABLES</td>\n",
       "      <td>VAPE CARTS - 510</td>\n",
       "    </tr>\n",
       "    <tr>\n",
       "      <td>64299</td>\n",
       "      <td>jack herer buds</td>\n",
       "      <td>INHALABLES</td>\n",
       "      <td>FLOWER - UNBRANDED</td>\n",
       "    </tr>\n",
       "    <tr>\n",
       "      <td>98024</td>\n",
       "      <td>phat panda og chem .5g pod</td>\n",
       "      <td>INHALABLES</td>\n",
       "      <td>VAPE CARTS - PROPRIETARY</td>\n",
       "    </tr>\n",
       "    <tr>\n",
       "      <td>98888</td>\n",
       "      <td>queen bee flodu shatter 1g</td>\n",
       "      <td>INHALABLES</td>\n",
       "      <td>DABBABLE CONCENTRATES</td>\n",
       "    </tr>\n",
       "    <tr>\n",
       "      <td>5757</td>\n",
       "      <td>soji health  sunrise : hemp extract oral spray...</td>\n",
       "      <td>INGESTIBLES</td>\n",
       "      <td>SUBLINGUALS</td>\n",
       "    </tr>\n",
       "  </tbody>\n",
       "</table>\n",
       "</div>"
      ],
      "text/plain": [
       "                                                 Product     Category  \\\n",
       "94466                                      ht gg4 bho 1g   INHALABLES   \n",
       "64299                                    jack herer buds   INHALABLES   \n",
       "98024                         phat panda og chem .5g pod   INHALABLES   \n",
       "98888                         queen bee flodu shatter 1g   INHALABLES   \n",
       "5757   soji health  sunrise : hemp extract oral spray...  INGESTIBLES   \n",
       "\n",
       "                    Subcategory  \n",
       "94466          VAPE CARTS - 510  \n",
       "64299        FLOWER - UNBRANDED  \n",
       "98024  VAPE CARTS - PROPRIETARY  \n",
       "98888     DABBABLE CONCENTRATES  \n",
       "5757                SUBLINGUALS  "
      ]
     },
     "execution_count": 22,
     "metadata": {},
     "output_type": "execute_result"
    }
   ],
   "source": [
    "data.head()"
   ]
  },
  {
   "cell_type": "code",
   "execution_count": 23,
   "metadata": {},
   "outputs": [],
   "source": [
    "#Finding Most Common Cannabis Strains "
   ]
  },
  {
   "cell_type": "code",
   "execution_count": 24,
   "metadata": {},
   "outputs": [],
   "source": [
    "products =['Hindu Kush', 'Mango Kush', 'NYC Diesel', 'Tahoe OG Kush', 'Death Star', 'Bubble Gum', 'Skywalker OG', 'Purple Haze', 'G13', 'Lemon Kush', 'Gods Gift', 'Purple Urkle', 'Skywalker', 'Cherry Pie', 'Chocolope', 'LA Confidential', 'White Rhino', 'Maui Waui', 'Afghan Kush', 'Super Lemon Haze', 'Master Kush', 'Grape Ape', 'Strawberry Cough', 'Blackberry Kush', 'Lemon Haze', 'Super Silver Haze', 'Durban Poison', 'Chemdawg', 'Alaskan Thunder Fuck', 'Purple Kush', 'Pineapple Express', 'Headband', 'Blue Cheese', 'Northern Lights', 'Trainwreck', 'AK 47', 'Bubba Kush', 'Jack Herer', 'White Widow', 'Granddaddy Purple', 'Girl Scout Cookies', 'OG Kush', 'Sour Diesel', 'Blue Dream'] "
   ]
  },
  {
   "cell_type": "code",
   "execution_count": 25,
   "metadata": {},
   "outputs": [
    {
     "name": "stdout",
     "output_type": "stream",
     "text": [
      "{'Jack Herer': 487, 'Blue Dream': 852, 'Cherry Pie': 135, 'Granddaddy Purple': 98, 'Super Lemon Haze': 365, 'Lemon Haze': 452, 'OG Kush': 435, 'Sour Diesel': 736, 'Headband': 263, 'Northern Lights': 317, 'Pineapple Express': 367, 'Strawberry Cough': 227, 'Death Star': 66, 'Skywalker': 290, 'Durban Poison': 253, 'Super Silver Haze': 124, 'Girl Scout Cookies': 184, 'Trainwreck': 269, 'Master Kush': 219, 'Purple Kush': 69, 'Bubba Kush': 343, 'NYC Diesel': 37, 'Bubble Gum': 69, 'Mango Kush': 56, 'Blackberry Kush': 105, 'Grape Ape': 150, 'Chemdawg': 80, 'G13': 38, 'AK 47': 7, 'Chocolope': 226, 'Alaskan Thunder Fuck': 15, 'Hindu Kush': 45, 'Lemon Kush': 82, 'Blue Cheese': 49, 'Purple Urkle': 41, 'White Widow': 106, 'LA Confidential': 54, 'Maui Waui': 39, 'White Rhino': 32, 'Skywalker OG': 142, 'Afghan Kush': 4, 'Purple Haze': 33, 'Gods Gift': 12, 'Tahoe OG Kush': 3}\n"
     ]
    },
    {
     "data": {
      "text/plain": [
       "[(852, 'Blue Dream'),\n",
       " (736, 'Sour Diesel'),\n",
       " (487, 'Jack Herer'),\n",
       " (452, 'Lemon Haze'),\n",
       " (435, 'OG Kush'),\n",
       " (367, 'Pineapple Express'),\n",
       " (365, 'Super Lemon Haze'),\n",
       " (343, 'Bubba Kush'),\n",
       " (317, 'Northern Lights'),\n",
       " (290, 'Skywalker'),\n",
       " (269, 'Trainwreck'),\n",
       " (263, 'Headband'),\n",
       " (253, 'Durban Poison'),\n",
       " (227, 'Strawberry Cough'),\n",
       " (226, 'Chocolope'),\n",
       " (219, 'Master Kush'),\n",
       " (184, 'Girl Scout Cookies'),\n",
       " (150, 'Grape Ape'),\n",
       " (142, 'Skywalker OG'),\n",
       " (135, 'Cherry Pie'),\n",
       " (124, 'Super Silver Haze'),\n",
       " (106, 'White Widow'),\n",
       " (105, 'Blackberry Kush'),\n",
       " (98, 'Granddaddy Purple'),\n",
       " (82, 'Lemon Kush'),\n",
       " (80, 'Chemdawg'),\n",
       " (69, 'Purple Kush'),\n",
       " (69, 'Bubble Gum'),\n",
       " (66, 'Death Star'),\n",
       " (56, 'Mango Kush'),\n",
       " (54, 'LA Confidential'),\n",
       " (49, 'Blue Cheese'),\n",
       " (45, 'Hindu Kush'),\n",
       " (41, 'Purple Urkle'),\n",
       " (39, 'Maui Waui'),\n",
       " (38, 'G13'),\n",
       " (37, 'NYC Diesel'),\n",
       " (33, 'Purple Haze'),\n",
       " (32, 'White Rhino'),\n",
       " (15, 'Alaskan Thunder Fuck'),\n",
       " (12, 'Gods Gift'),\n",
       " (7, 'AK 47'),\n",
       " (4, 'Afghan Kush'),\n",
       " (3, 'Tahoe OG Kush')]"
      ]
     },
     "execution_count": 25,
     "metadata": {},
     "output_type": "execute_result"
    }
   ],
   "source": [
    "count = {}\n",
    "\n",
    "for prod in data['Product']:\n",
    "    \n",
    "    for prod_check in products:\n",
    "        if prod_check.lower() in prod:\n",
    "            if prod_check not in count:\n",
    "                count[prod_check] = 1\n",
    "            else:\n",
    "                count[prod_check] +=1\n",
    "print(count)\n",
    "\n",
    "sortedMostCommon = sorted((value, key) for (key, value) in count.items())\n",
    "sortedMostCommon = sortedMostCommon[::-1]\n",
    "sortedMostCommon"
   ]
  },
  {
   "cell_type": "markdown",
   "metadata": {},
   "source": [
    "## Adding columns\n",
    "\n",
    "* In an effort to identify the true number of unique product labels, we wanted to strip down these labels to their base name, without additional descriptors. We've extracted these descriptors from the \"Products\" field and placed them in their own field. "
   ]
  },
  {
   "cell_type": "code",
   "execution_count": 26,
   "metadata": {},
   "outputs": [],
   "source": [
    "## Weight\n",
    "data['Weight'] = data['Product'].str.extract(r'(\\d*\\.?\\d+g| \\d*\\.?\\d+mg| \\d*\\.?\\d+[ ]?oz)')\n",
    "data['Product'] = data['Product'].str.replace(r'(\\d*\\.?\\d+g| \\d*\\.?\\d+mg| \\d*\\.?\\d+[ ]?oz)','')"
   ]
  },
  {
   "cell_type": "code",
   "execution_count": 27,
   "metadata": {},
   "outputs": [],
   "source": [
    "## Price\n",
    "data['Price'] = data['Product'].str.extract(r'(\\$\\d*[.,]?\\d*)')\n",
    "data['Product'] = data['Product'].str.replace(r'(\\$\\d*[.,]?\\d*)','')"
   ]
  },
  {
   "cell_type": "code",
   "execution_count": 28,
   "metadata": {},
   "outputs": [],
   "source": [
    "## Length/Volume\n",
    "data['Length/Volume'] = data['Product'].str.extract(r'(\\d*\\.?\\d+[ ]?ml |\\d*\\.?\\d+[ ]?mm)')\n",
    "data['Product'] = data['Product'].str.replace(r'(\\d*\\.?\\d+[ ]?ml |\\d*\\.?\\d+[ ]?mm)','')"
   ]
  },
  {
   "cell_type": "code",
   "execution_count": 29,
   "metadata": {},
   "outputs": [],
   "source": [
    "## Content%\n",
    "data['Content%'] = data['Product'].str.extract(r'(\\d*\\.?\\d*[ ]?%)')\n",
    "data['Product'] = data['Product'].str.replace(r'(\\d*\\.?\\d*[ ]?%)','')"
   ]
  },
  {
   "cell_type": "code",
   "execution_count": 30,
   "metadata": {
    "scrolled": true
   },
   "outputs": [
    {
     "data": {
      "text/html": [
       "<div>\n",
       "<style scoped>\n",
       "    .dataframe tbody tr th:only-of-type {\n",
       "        vertical-align: middle;\n",
       "    }\n",
       "\n",
       "    .dataframe tbody tr th {\n",
       "        vertical-align: top;\n",
       "    }\n",
       "\n",
       "    .dataframe thead th {\n",
       "        text-align: right;\n",
       "    }\n",
       "</style>\n",
       "<table border=\"1\" class=\"dataframe\">\n",
       "  <thead>\n",
       "    <tr style=\"text-align: right;\">\n",
       "      <th></th>\n",
       "      <th>Product</th>\n",
       "      <th>Category</th>\n",
       "      <th>Subcategory</th>\n",
       "      <th>Weight</th>\n",
       "      <th>Price</th>\n",
       "      <th>Length/Volume</th>\n",
       "      <th>Content%</th>\n",
       "    </tr>\n",
       "  </thead>\n",
       "  <tbody>\n",
       "    <tr>\n",
       "      <td>94466</td>\n",
       "      <td>ht gg4 bho</td>\n",
       "      <td>INHALABLES</td>\n",
       "      <td>VAPE CARTS - 510</td>\n",
       "      <td>1g</td>\n",
       "      <td>NaN</td>\n",
       "      <td>NaN</td>\n",
       "      <td>NaN</td>\n",
       "    </tr>\n",
       "    <tr>\n",
       "      <td>64299</td>\n",
       "      <td>jack herer buds</td>\n",
       "      <td>INHALABLES</td>\n",
       "      <td>FLOWER - UNBRANDED</td>\n",
       "      <td>NaN</td>\n",
       "      <td>NaN</td>\n",
       "      <td>NaN</td>\n",
       "      <td>NaN</td>\n",
       "    </tr>\n",
       "    <tr>\n",
       "      <td>98024</td>\n",
       "      <td>phat panda og chem  pod</td>\n",
       "      <td>INHALABLES</td>\n",
       "      <td>VAPE CARTS - PROPRIETARY</td>\n",
       "      <td>.5g</td>\n",
       "      <td>NaN</td>\n",
       "      <td>NaN</td>\n",
       "      <td>NaN</td>\n",
       "    </tr>\n",
       "    <tr>\n",
       "      <td>98888</td>\n",
       "      <td>queen bee flodu shatter</td>\n",
       "      <td>INHALABLES</td>\n",
       "      <td>DABBABLE CONCENTRATES</td>\n",
       "      <td>1g</td>\n",
       "      <td>NaN</td>\n",
       "      <td>NaN</td>\n",
       "      <td>NaN</td>\n",
       "    </tr>\n",
       "    <tr>\n",
       "      <td>5757</td>\n",
       "      <td>soji health  sunrise : hemp extract oral spray...</td>\n",
       "      <td>INGESTIBLES</td>\n",
       "      <td>SUBLINGUALS</td>\n",
       "      <td>NaN</td>\n",
       "      <td>NaN</td>\n",
       "      <td>NaN</td>\n",
       "      <td>NaN</td>\n",
       "    </tr>\n",
       "  </tbody>\n",
       "</table>\n",
       "</div>"
      ],
      "text/plain": [
       "                                                 Product     Category  \\\n",
       "94466                                        ht gg4 bho    INHALABLES   \n",
       "64299                                    jack herer buds   INHALABLES   \n",
       "98024                            phat panda og chem  pod   INHALABLES   \n",
       "98888                           queen bee flodu shatter    INHALABLES   \n",
       "5757   soji health  sunrise : hemp extract oral spray...  INGESTIBLES   \n",
       "\n",
       "                    Subcategory Weight Price Length/Volume Content%  \n",
       "94466          VAPE CARTS - 510     1g   NaN           NaN      NaN  \n",
       "64299        FLOWER - UNBRANDED    NaN   NaN           NaN      NaN  \n",
       "98024  VAPE CARTS - PROPRIETARY    .5g   NaN           NaN      NaN  \n",
       "98888     DABBABLE CONCENTRATES     1g   NaN           NaN      NaN  \n",
       "5757                SUBLINGUALS    NaN   NaN           NaN      NaN  "
      ]
     },
     "execution_count": 30,
     "metadata": {},
     "output_type": "execute_result"
    }
   ],
   "source": [
    "data.head()"
   ]
  },
  {
   "cell_type": "markdown",
   "metadata": {},
   "source": [
    "## Deduplicate\n",
    "\n",
    "* Since this data is coming from multiple online platforms, it appears there are products with identical product names but are classified into different categories. At this point, we are unsure which classification is correct, so we wouldn't want to remove duplicates pureley based off of product name. \n",
    "\n",
    "* As a result, we remove duplicates on the basis of product name + sub-category, as sub-category is the most detailed classifier of these products. "
   ]
  },
  {
   "cell_type": "code",
   "execution_count": 31,
   "metadata": {},
   "outputs": [
    {
     "data": {
      "text/plain": [
       "53843"
      ]
     },
     "execution_count": 31,
     "metadata": {},
     "output_type": "execute_result"
    }
   ],
   "source": [
    "# The number of duplicates: product name and sub category together\n",
    "data.duplicated(subset=['Product','Subcategory']).sum()"
   ]
  },
  {
   "cell_type": "code",
   "execution_count": 32,
   "metadata": {},
   "outputs": [],
   "source": [
    "# dedup\n",
    "df1 = data.drop_duplicates(subset=['Product','Subcategory'], keep = 'first') "
   ]
  },
  {
   "cell_type": "code",
   "execution_count": 33,
   "metadata": {},
   "outputs": [
    {
     "data": {
      "text/plain": [
       "(46156, 7)"
      ]
     },
     "execution_count": 33,
     "metadata": {},
     "output_type": "execute_result"
    }
   ],
   "source": [
    "df1.shape"
   ]
  },
  {
   "cell_type": "code",
   "execution_count": 34,
   "metadata": {},
   "outputs": [
    {
     "data": {
      "text/plain": [
       "41531"
      ]
     },
     "execution_count": 34,
     "metadata": {},
     "output_type": "execute_result"
    }
   ],
   "source": [
    "#Unique Product Labels\n",
    "data['Product'].nunique()"
   ]
  },
  {
   "cell_type": "code",
   "execution_count": 156,
   "metadata": {},
   "outputs": [],
   "source": [
    "df1.to_csv('NorcalFinal_Cleaned2.csv',encoding='utf-8', index=False) "
   ]
  },
  {
   "cell_type": "markdown",
   "metadata": {},
   "source": [
    "## Examining Product Similarity\n",
    "\n",
    "* In an effort to find similar products, we will compare all products in this dataset using record linkage. Here, we will be able to find threshold similarity values and see which products are similar to any given product.  "
   ]
  },
  {
   "cell_type": "code",
   "execution_count": 61,
   "metadata": {},
   "outputs": [
    {
     "name": "stdout",
     "output_type": "stream",
     "text": [
      "Collecting recordlinkage\n",
      "\u001b[?25l  Downloading https://files.pythonhosted.org/packages/db/26/babbca39d74824e8bc17428a8eb04951a1d63318af7d02beeb2106a1ec26/recordlinkage-0.14-py3-none-any.whl (944kB)\n",
      "\u001b[K     |████████████████████████████████| 952kB 1.3MB/s eta 0:00:01\n",
      "\u001b[?25hCollecting jellyfish>=0.5.4 (from recordlinkage)\n",
      "\u001b[?25l  Downloading https://files.pythonhosted.org/packages/3f/80/bcacc7affb47be7279d7d35225e1a932416ed051b315a7f9df20acf04cbe/jellyfish-0.7.2.tar.gz (133kB)\n",
      "\u001b[K     |████████████████████████████████| 143kB 41.1MB/s eta 0:00:01\n",
      "\u001b[?25hRequirement already satisfied: joblib in /opt/anaconda3/lib/python3.7/site-packages (from recordlinkage) (0.13.2)\n",
      "Requirement already satisfied: pandas>=0.23 in /opt/anaconda3/lib/python3.7/site-packages (from recordlinkage) (0.25.1)\n",
      "Requirement already satisfied: scikit-learn>=0.19.0 in /opt/anaconda3/lib/python3.7/site-packages (from recordlinkage) (0.21.3)\n",
      "Requirement already satisfied: scipy>=1 in /opt/anaconda3/lib/python3.7/site-packages (from recordlinkage) (1.3.1)\n",
      "Requirement already satisfied: numpy>=1.13.0 in /opt/anaconda3/lib/python3.7/site-packages (from recordlinkage) (1.17.2)\n",
      "Requirement already satisfied: python-dateutil>=2.6.1 in /opt/anaconda3/lib/python3.7/site-packages (from pandas>=0.23->recordlinkage) (2.8.0)\n",
      "Requirement already satisfied: pytz>=2017.2 in /opt/anaconda3/lib/python3.7/site-packages (from pandas>=0.23->recordlinkage) (2019.3)\n",
      "Requirement already satisfied: six>=1.5 in /opt/anaconda3/lib/python3.7/site-packages (from python-dateutil>=2.6.1->pandas>=0.23->recordlinkage) (1.12.0)\n",
      "Building wheels for collected packages: jellyfish\n",
      "  Building wheel for jellyfish (setup.py) ... \u001b[?25ldone\n",
      "\u001b[?25h  Created wheel for jellyfish: filename=jellyfish-0.7.2-cp37-none-any.whl size=10029 sha256=21e3d524e1c60c03b8c8df53efd73d1033a64242574fbf310e1e8f4df7b1cbdd\n",
      "  Stored in directory: /Users/casey/Library/Caches/pip/wheels/e8/fe/99/d8fa8f2ef7b82a625b0b77a84d319b0b50693659823c4effb4\n",
      "Successfully built jellyfish\n",
      "Installing collected packages: jellyfish, recordlinkage\n",
      "Successfully installed jellyfish-0.7.2 recordlinkage-0.14\n",
      "Note: you may need to restart the kernel to use updated packages.\n"
     ]
    }
   ],
   "source": [
    "pip install recordlinkage"
   ]
  },
  {
   "cell_type": "code",
   "execution_count": 62,
   "metadata": {},
   "outputs": [],
   "source": [
    "import recordlinkage\n",
    "from recordlinkage.datasets import load_febrl1\n",
    "import pandas as pd\n",
    "import numpy as np"
   ]
  },
  {
   "cell_type": "code",
   "execution_count": 63,
   "metadata": {},
   "outputs": [],
   "source": [
    "df1 = pd.read_csv('NorcalFinal_Cleaned2.csv') "
   ]
  },
  {
   "cell_type": "code",
   "execution_count": 64,
   "metadata": {},
   "outputs": [
    {
     "data": {
      "text/html": [
       "<div>\n",
       "<style scoped>\n",
       "    .dataframe tbody tr th:only-of-type {\n",
       "        vertical-align: middle;\n",
       "    }\n",
       "\n",
       "    .dataframe tbody tr th {\n",
       "        vertical-align: top;\n",
       "    }\n",
       "\n",
       "    .dataframe thead th {\n",
       "        text-align: right;\n",
       "    }\n",
       "</style>\n",
       "<table border=\"1\" class=\"dataframe\">\n",
       "  <thead>\n",
       "    <tr style=\"text-align: right;\">\n",
       "      <th></th>\n",
       "      <th>Product</th>\n",
       "      <th>Category</th>\n",
       "      <th>Subcategory</th>\n",
       "      <th>Weight</th>\n",
       "      <th>Size</th>\n",
       "      <th>Price</th>\n",
       "      <th>Length</th>\n",
       "      <th>Content%</th>\n",
       "    </tr>\n",
       "  </thead>\n",
       "  <tbody>\n",
       "    <tr>\n",
       "      <td>0</td>\n",
       "      <td>!420! bloom farms cartridge bogo</td>\n",
       "      <td>INHALABLES</td>\n",
       "      <td>VAPE CARTS - 510</td>\n",
       "      <td>500mg</td>\n",
       "      <td>NaN</td>\n",
       "      <td>NaN</td>\n",
       "      <td>NaN</td>\n",
       "      <td>NaN</td>\n",
       "    </tr>\n",
       "    <tr>\n",
       "      <td>1</td>\n",
       "      <td>!420! eel river cartridge [h] citrus sap</td>\n",
       "      <td>INHALABLES</td>\n",
       "      <td>VAPE CARTS - 510</td>\n",
       "      <td>500mg</td>\n",
       "      <td>NaN</td>\n",
       "      <td>NaN</td>\n",
       "      <td>NaN</td>\n",
       "      <td>NaN</td>\n",
       "    </tr>\n",
       "    <tr>\n",
       "      <td>2</td>\n",
       "      <td>!420! eel river cartridge [s] ancient lime</td>\n",
       "      <td>INHALABLES</td>\n",
       "      <td>VAPE CARTS - 510</td>\n",
       "      <td>500mg</td>\n",
       "      <td>NaN</td>\n",
       "      <td>NaN</td>\n",
       "      <td>NaN</td>\n",
       "      <td>NaN</td>\n",
       "    </tr>\n",
       "    <tr>\n",
       "      <td>3</td>\n",
       "      <td>!420! eel river cartridge [s] dairy queen</td>\n",
       "      <td>INHALABLES</td>\n",
       "      <td>VAPE CARTS - 510</td>\n",
       "      <td>500mg</td>\n",
       "      <td>NaN</td>\n",
       "      <td>NaN</td>\n",
       "      <td>NaN</td>\n",
       "      <td>NaN</td>\n",
       "    </tr>\n",
       "    <tr>\n",
       "      <td>4</td>\n",
       "      <td>!420! eel river live resin [h] chernobyl</td>\n",
       "      <td>INHALABLES</td>\n",
       "      <td>DABBABLE CONCENTRATES</td>\n",
       "      <td>1g</td>\n",
       "      <td>NaN</td>\n",
       "      <td>NaN</td>\n",
       "      <td>NaN</td>\n",
       "      <td>NaN</td>\n",
       "    </tr>\n",
       "  </tbody>\n",
       "</table>\n",
       "</div>"
      ],
      "text/plain": [
       "                                      Product    Category  \\\n",
       "0            !420! bloom farms cartridge bogo  INHALABLES   \n",
       "1    !420! eel river cartridge [h] citrus sap  INHALABLES   \n",
       "2  !420! eel river cartridge [s] ancient lime  INHALABLES   \n",
       "3   !420! eel river cartridge [s] dairy queen  INHALABLES   \n",
       "4   !420! eel river live resin [h] chernobyl   INHALABLES   \n",
       "\n",
       "             Subcategory  Weight Size Price Length Content%  \n",
       "0       VAPE CARTS - 510   500mg  NaN   NaN    NaN      NaN  \n",
       "1       VAPE CARTS - 510   500mg  NaN   NaN    NaN      NaN  \n",
       "2       VAPE CARTS - 510   500mg  NaN   NaN    NaN      NaN  \n",
       "3       VAPE CARTS - 510   500mg  NaN   NaN    NaN      NaN  \n",
       "4  DABBABLE CONCENTRATES      1g  NaN   NaN    NaN      NaN  "
      ]
     },
     "execution_count": 64,
     "metadata": {},
     "output_type": "execute_result"
    }
   ],
   "source": [
    "df1.head()"
   ]
  },
  {
   "cell_type": "markdown",
   "metadata": {},
   "source": [
    "* It is very intuitive to start with comparing each record in DataFrame df1 with all other records in DataFrame df. In fact, we want to make record pairs. Each record pair should contain two different records of DataFrame df. This process of making record pairs is also called ‘indexing’."
   ]
  },
  {
   "cell_type": "code",
   "execution_count": 65,
   "metadata": {},
   "outputs": [
    {
     "name": "stdout",
     "output_type": "stream",
     "text": [
      "WARNING:recordlinkage:indexing - performance warning - A full index can result in large number of record pairs.\n"
     ]
    }
   ],
   "source": [
    "indexer = recordlinkage.Index()\n",
    "indexer.full()\n",
    "candidate_links = indexer.index(df1)"
   ]
  },
  {
   "cell_type": "code",
   "execution_count": 66,
   "metadata": {},
   "outputs": [
    {
     "name": "stdout",
     "output_type": "stream",
     "text": [
      "46144 1064611296\n"
     ]
    }
   ],
   "source": [
    "print (len(df1), len(candidate_links))"
   ]
  },
  {
   "cell_type": "code",
   "execution_count": 68,
   "metadata": {},
   "outputs": [
    {
     "name": "stdout",
     "output_type": "stream",
     "text": [
      "4935\n"
     ]
    }
   ],
   "source": [
    "indexer = recordlinkage.Index()\n",
    "indexer.block('Product')\n",
    "candidate_links = indexer.index(df1)\n",
    "\n",
    "print (len(candidate_links))"
   ]
  },
  {
   "cell_type": "code",
   "execution_count": 69,
   "metadata": {},
   "outputs": [],
   "source": [
    "compare_cl = recordlinkage.Compare()"
   ]
  },
  {
   "cell_type": "code",
   "execution_count": 70,
   "metadata": {},
   "outputs": [
    {
     "data": {
      "text/plain": [
       "<Compare>"
      ]
     },
     "execution_count": 70,
     "metadata": {},
     "output_type": "execute_result"
    }
   ],
   "source": [
    "compare_cl.exact('Category', 'Category', label='Category')\n",
    "compare_cl.exact('Subcategory', 'Subcategory', label='Subcategory')\n",
    "compare_cl.string('Product', 'Product', threshold=0.95, label='Product')"
   ]
  },
  {
   "cell_type": "code",
   "execution_count": 71,
   "metadata": {},
   "outputs": [],
   "source": [
    "features = compare_cl.compute(candidate_links, df1)"
   ]
  },
  {
   "cell_type": "code",
   "execution_count": 72,
   "metadata": {},
   "outputs": [
    {
     "data": {
      "text/html": [
       "<div>\n",
       "<style scoped>\n",
       "    .dataframe tbody tr th:only-of-type {\n",
       "        vertical-align: middle;\n",
       "    }\n",
       "\n",
       "    .dataframe tbody tr th {\n",
       "        vertical-align: top;\n",
       "    }\n",
       "\n",
       "    .dataframe thead th {\n",
       "        text-align: right;\n",
       "    }\n",
       "</style>\n",
       "<table border=\"1\" class=\"dataframe\">\n",
       "  <thead>\n",
       "    <tr style=\"text-align: right;\">\n",
       "      <th></th>\n",
       "      <th></th>\n",
       "      <th>Category</th>\n",
       "      <th>Subcategory</th>\n",
       "      <th>Product</th>\n",
       "    </tr>\n",
       "  </thead>\n",
       "  <tbody>\n",
       "    <tr>\n",
       "      <td>7</td>\n",
       "      <td>6</td>\n",
       "      <td>1</td>\n",
       "      <td>0</td>\n",
       "      <td>1.0</td>\n",
       "    </tr>\n",
       "    <tr>\n",
       "      <td>9</td>\n",
       "      <td>8</td>\n",
       "      <td>1</td>\n",
       "      <td>0</td>\n",
       "      <td>1.0</td>\n",
       "    </tr>\n",
       "    <tr>\n",
       "      <td>13</td>\n",
       "      <td>12</td>\n",
       "      <td>1</td>\n",
       "      <td>0</td>\n",
       "      <td>1.0</td>\n",
       "    </tr>\n",
       "    <tr>\n",
       "      <td>103</td>\n",
       "      <td>102</td>\n",
       "      <td>1</td>\n",
       "      <td>0</td>\n",
       "      <td>1.0</td>\n",
       "    </tr>\n",
       "    <tr>\n",
       "      <td>107</td>\n",
       "      <td>106</td>\n",
       "      <td>1</td>\n",
       "      <td>0</td>\n",
       "      <td>1.0</td>\n",
       "    </tr>\n",
       "    <tr>\n",
       "      <td>124</td>\n",
       "      <td>123</td>\n",
       "      <td>1</td>\n",
       "      <td>0</td>\n",
       "      <td>1.0</td>\n",
       "    </tr>\n",
       "    <tr>\n",
       "      <td>146</td>\n",
       "      <td>125</td>\n",
       "      <td>1</td>\n",
       "      <td>0</td>\n",
       "      <td>1.0</td>\n",
       "    </tr>\n",
       "    <tr>\n",
       "      <td>182</td>\n",
       "      <td>151</td>\n",
       "      <td>0</td>\n",
       "      <td>0</td>\n",
       "      <td>1.0</td>\n",
       "    </tr>\n",
       "    <tr>\n",
       "      <td rowspan=\"2\" valign=\"top\">286</td>\n",
       "      <td>151</td>\n",
       "      <td>0</td>\n",
       "      <td>0</td>\n",
       "      <td>1.0</td>\n",
       "    </tr>\n",
       "    <tr>\n",
       "      <td>182</td>\n",
       "      <td>1</td>\n",
       "      <td>0</td>\n",
       "      <td>1.0</td>\n",
       "    </tr>\n",
       "  </tbody>\n",
       "</table>\n",
       "</div>"
      ],
      "text/plain": [
       "         Category  Subcategory  Product\n",
       "7   6           1            0      1.0\n",
       "9   8           1            0      1.0\n",
       "13  12          1            0      1.0\n",
       "103 102         1            0      1.0\n",
       "107 106         1            0      1.0\n",
       "124 123         1            0      1.0\n",
       "146 125         1            0      1.0\n",
       "182 151         0            0      1.0\n",
       "286 151         0            0      1.0\n",
       "    182         1            0      1.0"
      ]
     },
     "execution_count": 72,
     "metadata": {},
     "output_type": "execute_result"
    }
   ],
   "source": [
    "features.head(10)"
   ]
  },
  {
   "cell_type": "code",
   "execution_count": 73,
   "metadata": {},
   "outputs": [
    {
     "data": {
      "text/html": [
       "<div>\n",
       "<style scoped>\n",
       "    .dataframe tbody tr th:only-of-type {\n",
       "        vertical-align: middle;\n",
       "    }\n",
       "\n",
       "    .dataframe tbody tr th {\n",
       "        vertical-align: top;\n",
       "    }\n",
       "\n",
       "    .dataframe thead th {\n",
       "        text-align: right;\n",
       "    }\n",
       "</style>\n",
       "<table border=\"1\" class=\"dataframe\">\n",
       "  <thead>\n",
       "    <tr style=\"text-align: right;\">\n",
       "      <th></th>\n",
       "      <th>Category</th>\n",
       "      <th>Subcategory</th>\n",
       "      <th>Product</th>\n",
       "    </tr>\n",
       "  </thead>\n",
       "  <tbody>\n",
       "    <tr>\n",
       "      <td>count</td>\n",
       "      <td>4935.000000</td>\n",
       "      <td>4935.0</td>\n",
       "      <td>4935.0</td>\n",
       "    </tr>\n",
       "    <tr>\n",
       "      <td>mean</td>\n",
       "      <td>0.835461</td>\n",
       "      <td>0.0</td>\n",
       "      <td>1.0</td>\n",
       "    </tr>\n",
       "    <tr>\n",
       "      <td>std</td>\n",
       "      <td>0.370802</td>\n",
       "      <td>0.0</td>\n",
       "      <td>0.0</td>\n",
       "    </tr>\n",
       "    <tr>\n",
       "      <td>min</td>\n",
       "      <td>0.000000</td>\n",
       "      <td>0.0</td>\n",
       "      <td>1.0</td>\n",
       "    </tr>\n",
       "    <tr>\n",
       "      <td>25%</td>\n",
       "      <td>1.000000</td>\n",
       "      <td>0.0</td>\n",
       "      <td>1.0</td>\n",
       "    </tr>\n",
       "    <tr>\n",
       "      <td>50%</td>\n",
       "      <td>1.000000</td>\n",
       "      <td>0.0</td>\n",
       "      <td>1.0</td>\n",
       "    </tr>\n",
       "    <tr>\n",
       "      <td>75%</td>\n",
       "      <td>1.000000</td>\n",
       "      <td>0.0</td>\n",
       "      <td>1.0</td>\n",
       "    </tr>\n",
       "    <tr>\n",
       "      <td>max</td>\n",
       "      <td>1.000000</td>\n",
       "      <td>0.0</td>\n",
       "      <td>1.0</td>\n",
       "    </tr>\n",
       "  </tbody>\n",
       "</table>\n",
       "</div>"
      ],
      "text/plain": [
       "          Category  Subcategory  Product\n",
       "count  4935.000000       4935.0   4935.0\n",
       "mean      0.835461          0.0      1.0\n",
       "std       0.370802          0.0      0.0\n",
       "min       0.000000          0.0      1.0\n",
       "25%       1.000000          0.0      1.0\n",
       "50%       1.000000          0.0      1.0\n",
       "75%       1.000000          0.0      1.0\n",
       "max       1.000000          0.0      1.0"
      ]
     },
     "execution_count": 73,
     "metadata": {},
     "output_type": "execute_result"
    }
   ],
   "source": [
    "features.describe()"
   ]
  },
  {
   "cell_type": "code",
   "execution_count": 74,
   "metadata": {},
   "outputs": [
    {
     "data": {
      "text/plain": [
       "2.0    4123\n",
       "1.0     812\n",
       "dtype: int64"
      ]
     },
     "execution_count": 74,
     "metadata": {},
     "output_type": "execute_result"
    }
   ],
   "source": [
    "features.sum(axis=1).value_counts().sort_index(ascending=False)"
   ]
  },
  {
   "cell_type": "code",
   "execution_count": 77,
   "metadata": {},
   "outputs": [
    {
     "name": "stdout",
     "output_type": "stream",
     "text": [
      "4123\n"
     ]
    },
    {
     "data": {
      "text/html": [
       "<div>\n",
       "<style scoped>\n",
       "    .dataframe tbody tr th:only-of-type {\n",
       "        vertical-align: middle;\n",
       "    }\n",
       "\n",
       "    .dataframe tbody tr th {\n",
       "        vertical-align: top;\n",
       "    }\n",
       "\n",
       "    .dataframe thead th {\n",
       "        text-align: right;\n",
       "    }\n",
       "</style>\n",
       "<table border=\"1\" class=\"dataframe\">\n",
       "  <thead>\n",
       "    <tr style=\"text-align: right;\">\n",
       "      <th></th>\n",
       "      <th></th>\n",
       "      <th>Category</th>\n",
       "      <th>Subcategory</th>\n",
       "      <th>Product</th>\n",
       "    </tr>\n",
       "  </thead>\n",
       "  <tbody>\n",
       "    <tr>\n",
       "      <td>7</td>\n",
       "      <td>6</td>\n",
       "      <td>1</td>\n",
       "      <td>0</td>\n",
       "      <td>1.0</td>\n",
       "    </tr>\n",
       "    <tr>\n",
       "      <td>9</td>\n",
       "      <td>8</td>\n",
       "      <td>1</td>\n",
       "      <td>0</td>\n",
       "      <td>1.0</td>\n",
       "    </tr>\n",
       "    <tr>\n",
       "      <td>13</td>\n",
       "      <td>12</td>\n",
       "      <td>1</td>\n",
       "      <td>0</td>\n",
       "      <td>1.0</td>\n",
       "    </tr>\n",
       "    <tr>\n",
       "      <td>103</td>\n",
       "      <td>102</td>\n",
       "      <td>1</td>\n",
       "      <td>0</td>\n",
       "      <td>1.0</td>\n",
       "    </tr>\n",
       "    <tr>\n",
       "      <td>107</td>\n",
       "      <td>106</td>\n",
       "      <td>1</td>\n",
       "      <td>0</td>\n",
       "      <td>1.0</td>\n",
       "    </tr>\n",
       "    <tr>\n",
       "      <td>124</td>\n",
       "      <td>123</td>\n",
       "      <td>1</td>\n",
       "      <td>0</td>\n",
       "      <td>1.0</td>\n",
       "    </tr>\n",
       "    <tr>\n",
       "      <td>146</td>\n",
       "      <td>125</td>\n",
       "      <td>1</td>\n",
       "      <td>0</td>\n",
       "      <td>1.0</td>\n",
       "    </tr>\n",
       "    <tr>\n",
       "      <td>286</td>\n",
       "      <td>182</td>\n",
       "      <td>1</td>\n",
       "      <td>0</td>\n",
       "      <td>1.0</td>\n",
       "    </tr>\n",
       "    <tr>\n",
       "      <td>162</td>\n",
       "      <td>161</td>\n",
       "      <td>1</td>\n",
       "      <td>0</td>\n",
       "      <td>1.0</td>\n",
       "    </tr>\n",
       "    <tr>\n",
       "      <td>184</td>\n",
       "      <td>183</td>\n",
       "      <td>1</td>\n",
       "      <td>0</td>\n",
       "      <td>1.0</td>\n",
       "    </tr>\n",
       "  </tbody>\n",
       "</table>\n",
       "</div>"
      ],
      "text/plain": [
       "         Category  Subcategory  Product\n",
       "7   6           1            0      1.0\n",
       "9   8           1            0      1.0\n",
       "13  12          1            0      1.0\n",
       "103 102         1            0      1.0\n",
       "107 106         1            0      1.0\n",
       "124 123         1            0      1.0\n",
       "146 125         1            0      1.0\n",
       "286 182         1            0      1.0\n",
       "162 161         1            0      1.0\n",
       "184 183         1            0      1.0"
      ]
     },
     "execution_count": 77,
     "metadata": {},
     "output_type": "execute_result"
    }
   ],
   "source": [
    "matches = features[features.sum(axis=1) > 1]\n",
    "\n",
    "print(len(matches))\n",
    "matches.head(10)"
   ]
  },
  {
   "cell_type": "code",
   "execution_count": null,
   "metadata": {},
   "outputs": [],
   "source": []
  }
 ],
 "metadata": {
  "kernelspec": {
   "display_name": "Python 3",
   "language": "python",
   "name": "python3"
  },
  "language_info": {
   "codemirror_mode": {
    "name": "ipython",
    "version": 3
   },
   "file_extension": ".py",
   "mimetype": "text/x-python",
   "name": "python",
   "nbconvert_exporter": "python",
   "pygments_lexer": "ipython3",
   "version": "3.7.4"
  }
 },
 "nbformat": 4,
 "nbformat_minor": 2
}
